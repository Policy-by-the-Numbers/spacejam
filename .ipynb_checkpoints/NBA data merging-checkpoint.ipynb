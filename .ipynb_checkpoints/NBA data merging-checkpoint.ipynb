{
 "cells": [
  {
   "cell_type": "markdown",
   "id": "loved-sarah",
   "metadata": {},
   "source": [
    "## Merging the NBA datasets"
   ]
  },
  {
   "cell_type": "markdown",
   "id": "consistent-blood",
   "metadata": {},
   "source": [
    "Reading in the three data frames"
   ]
  },
  {
   "cell_type": "code",
   "execution_count": 58,
   "id": "eleven-planner",
   "metadata": {},
   "outputs": [],
   "source": [
    "import pandas as pd\n",
    "champs=pd.read_pickle(\"https://github.com/Policy-by-the-Numbers/spacejam/raw/main/nbachamps.pkl\")\n",
    "streak=pd.read_pickle(\"https://github.com/Policy-by-the-Numbers/spacejam/raw/main/nbawinstreaks.pkl\")\n",
    "mvp=pd.read_pickle(\"https://github.com/Policy-by-the-Numbers/spacejam/raw/main/nba_mvps.pkl\")"
   ]
  },
  {
   "cell_type": "code",
   "execution_count": 51,
   "id": "grateful-salon",
   "metadata": {},
   "outputs": [
    {
     "name": "stdout",
     "output_type": "stream",
     "text": [
      "<class 'pandas.core.frame.DataFrame'>\n",
      "RangeIndex: 33 entries, 0 to 32\n",
      "Data columns (total 5 columns):\n",
      " #   Column  Non-Null Count  Dtype  \n",
      "---  ------  --------------  -----  \n",
      " 0   Team    33 non-null     object \n",
      " 1   Win     27 non-null     float64\n",
      " 2   Loss    27 non-null     float64\n",
      " 3   Apps    27 non-null     float64\n",
      " 4   Pct     27 non-null     float64\n",
      "dtypes: float64(4), object(1)\n",
      "memory usage: 1.4+ KB\n"
     ]
    }
   ],
   "source": [
    "champs.info()"
   ]
  },
  {
   "cell_type": "code",
   "execution_count": 59,
   "id": "offshore-western",
   "metadata": {},
   "outputs": [
    {
     "name": "stdout",
     "output_type": "stream",
     "text": [
      "<class 'pandas.core.frame.DataFrame'>\n",
      "RangeIndex: 33 entries, 0 to 32\n",
      "Data columns (total 2 columns):\n",
      " #   Column  Non-Null Count  Dtype \n",
      "---  ------  --------------  ----- \n",
      " 0   Games   33 non-null     int64 \n",
      " 1   Team    33 non-null     object\n",
      "dtypes: int64(1), object(1)\n",
      "memory usage: 656.0+ bytes\n"
     ]
    }
   ],
   "source": [
    "streak.info()"
   ]
  },
  {
   "cell_type": "markdown",
   "id": "consistent-lingerie",
   "metadata": {},
   "source": [
    "Realizing that the unit of analysis for win streak is not by team. Gonna move on with just the MVP data to see what happens."
   ]
  },
  {
   "cell_type": "code",
   "execution_count": 53,
   "id": "honest-doctor",
   "metadata": {},
   "outputs": [
    {
     "data": {
      "text/plain": [
       "((33, 5), (33, 2), (30, 2))"
      ]
     },
     "execution_count": 53,
     "metadata": {},
     "output_type": "execute_result"
    }
   ],
   "source": [
    "champs.shape,streak.shape,mvp.shape"
   ]
  },
  {
   "cell_type": "markdown",
   "id": "engaging-shame",
   "metadata": {},
   "source": [
    "Looking first at championship data vs. MVP data"
   ]
  },
  {
   "cell_type": "code",
   "execution_count": 60,
   "id": "dense-michigan",
   "metadata": {},
   "outputs": [
    {
     "data": {
      "text/plain": [
       "{'Atlanta Hawks[v]',\n",
       " 'Baltimore Bullets (original) (folded in 1954)[viii]',\n",
       " 'Brooklyn Nets[x]',\n",
       " 'Chicago Stags (folded in 1950)',\n",
       " 'Detroit Pistons[iv]',\n",
       " 'Golden State Warriors[ii]',\n",
       " 'Los Angeles Clippers',\n",
       " 'Los Angeles Lakers[i]',\n",
       " 'Oklahoma City Thunder[vii]',\n",
       " 'Philadelphia 76ers[iii]',\n",
       " 'Sacramento Kings[ix]',\n",
       " 'Washington Capitols (folded in 1951)',\n",
       " 'Washington Wizards[vi]'}"
      ]
     },
     "execution_count": 60,
     "metadata": {},
     "output_type": "execute_result"
    }
   ],
   "source": [
    "onlyChamps=set(champs.Team)-set(mvp.Teams)\n",
    "onlyChamps"
   ]
  },
  {
   "cell_type": "code",
   "execution_count": 55,
   "id": "serious-rover",
   "metadata": {},
   "outputs": [
    {
     "data": {
      "text/plain": [
       "{'Baltimore Bullets (now Washington Wizards)',\n",
       " 'Brooklyn Nets',\n",
       " 'Buffalo Braves (now Los Angeles Clippers)',\n",
       " 'Cincinnati Royals (now Sacramento Kings)',\n",
       " 'Detroit Pistons',\n",
       " 'Los Angeles Lakers',\n",
       " 'Oklahoma City Thunder',\n",
       " 'Philadelphia 76ers',\n",
       " 'Philadelphia/Golden State Warriors',\n",
       " 'St. Louis Hawks (now Atlanta Hawks)'}"
      ]
     },
     "execution_count": 55,
     "metadata": {},
     "output_type": "execute_result"
    }
   ],
   "source": [
    "onlyMVP=set(mvp.Teams)-set(champs.Team)\n",
    "onlyMVP"
   ]
  },
  {
   "cell_type": "markdown",
   "id": "junior-internet",
   "metadata": {},
   "source": [
    "Here we'll try and find what countries in onlyChamps may match those in onlyMVP using fuzzy merge"
   ]
  },
  {
   "cell_type": "code",
   "execution_count": 29,
   "id": "crucial-hierarchy",
   "metadata": {},
   "outputs": [
    {
     "name": "stdout",
     "output_type": "stream",
     "text": [
      "Requirement already satisfied: thefuzz in c:\\users\\deian\\anaconda3\\envs\\govanalytics\\lib\\site-packages (0.19.0)\n"
     ]
    },
    {
     "data": {
      "text/plain": [
       "[(('St. Louis Hawks (now Atlanta Hawks)', 86), 'Atlanta Hawks[v]'),\n",
       " (('Baltimore Bullets (now Washington Wizards)', 57),\n",
       "  'Baltimore Bullets (original) (folded in 1954)[viii]'),\n",
       " (('Brooklyn Nets', 95), 'Brooklyn Nets[x]'),\n",
       " (('Detroit Pistons', 44), 'Chicago Stags (folded in 1950)'),\n",
       " (('Detroit Pistons', 95), 'Detroit Pistons[iv]'),\n",
       " (('Philadelphia/Golden State Warriors', 88), 'Golden State Warriors[ii]'),\n",
       " (('Buffalo Braves (now Los Angeles Clippers)', 90), 'Los Angeles Clippers'),\n",
       " (('Los Angeles Lakers', 95), 'Los Angeles Lakers[i]'),\n",
       " (('Oklahoma City Thunder', 95), 'Oklahoma City Thunder[vii]'),\n",
       " (('Philadelphia 76ers', 95), 'Philadelphia 76ers[iii]'),\n",
       " (('Cincinnati Royals (now Sacramento Kings)', 86), 'Sacramento Kings[ix]'),\n",
       " (('Baltimore Bullets (now Washington Wizards)', 44),\n",
       "  'Washington Capitols (folded in 1951)'),\n",
       " (('Baltimore Bullets (now Washington Wizards)', 86),\n",
       "  'Washington Wizards[vi]')]"
      ]
     },
     "execution_count": 29,
     "metadata": {},
     "output_type": "execute_result"
    }
   ],
   "source": [
    "!pip install thefuzz\n",
    "from thefuzz import process as fz\n",
    "\n",
    "# look for a country in onlyMVP and return the most similar\n",
    "[(fz.extractOne(champs, onlyMVP),champs) for champs in sorted(onlyChamps)]"
   ]
  },
  {
   "cell_type": "markdown",
   "id": "innocent-drawing",
   "metadata": {},
   "source": []
  },
  {
   "cell_type": "code",
   "execution_count": 34,
   "id": "defensive-norman",
   "metadata": {},
   "outputs": [
    {
     "data": {
      "text/plain": [
       "[(('St. Louis Hawks (now Atlanta Hawks)', 86), 'Atlanta Hawks[v]'),\n",
       " (('Brooklyn Nets', 95), 'Brooklyn Nets[x]'),\n",
       " (('Detroit Pistons', 95), 'Detroit Pistons[iv]'),\n",
       " (('Philadelphia/Golden State Warriors', 88), 'Golden State Warriors[ii]'),\n",
       " (('Buffalo Braves (now Los Angeles Clippers)', 90), 'Los Angeles Clippers'),\n",
       " (('Los Angeles Lakers', 95), 'Los Angeles Lakers[i]'),\n",
       " (('Oklahoma City Thunder', 95), 'Oklahoma City Thunder[vii]'),\n",
       " (('Philadelphia 76ers', 95), 'Philadelphia 76ers[iii]'),\n",
       " (('Cincinnati Royals (now Sacramento Kings)', 86), 'Sacramento Kings[ix]'),\n",
       " (('Baltimore Bullets (now Washington Wizards)', 86),\n",
       "  'Washington Wizards[vi]')]"
      ]
     },
     "execution_count": 34,
     "metadata": {},
     "output_type": "execute_result"
    }
   ],
   "source": [
    "[(fz.extractOne(champs, onlyMVP),champs)\n",
    " for champs in sorted(onlyChamps)\n",
    "if fz.extractOne(champs, onlyMVP)[1]>80]"
   ]
  },
  {
   "cell_type": "markdown",
   "id": "approximate-cedar",
   "metadata": {},
   "source": [
    "I like these matches, so I'll create a dictionary:"
   ]
  },
  {
   "cell_type": "code",
   "execution_count": 38,
   "id": "superb-completion",
   "metadata": {},
   "outputs": [
    {
     "data": {
      "text/plain": [
       "{(('Baltimore Bullets (now Washington Wizards)', 86),\n",
       "  'Washington Wizards[vi]'),\n",
       " (('Brooklyn Nets', 95), 'Brooklyn Nets[x]'),\n",
       " (('Buffalo Braves (now Los Angeles Clippers)', 90), 'Los Angeles Clippers'),\n",
       " (('Cincinnati Royals (now Sacramento Kings)', 86), 'Sacramento Kings[ix]'),\n",
       " (('Detroit Pistons', 95), 'Detroit Pistons[iv]'),\n",
       " (('Los Angeles Lakers', 95), 'Los Angeles Lakers[i]'),\n",
       " (('Oklahoma City Thunder', 95), 'Oklahoma City Thunder[vii]'),\n",
       " (('Philadelphia 76ers', 95), 'Philadelphia 76ers[iii]'),\n",
       " (('Philadelphia/Golden State Warriors', 88), 'Golden State Warriors[ii]'),\n",
       " (('St. Louis Hawks (now Atlanta Hawks)', 86), 'Atlanta Hawks[v]')}"
      ]
     },
     "execution_count": 38,
     "metadata": {},
     "output_type": "execute_result"
    }
   ],
   "source": [
    "changesMVP1={(fz.extractOne(champs, onlyMVP),champs)\n",
    "            for champs in sorted(onlyChamps)\n",
    "            if fz.extractOne(champs, onlyMVP)[1]>80}\n",
    "              \n",
    "# dictionary of matches\n",
    "changesMVP1"
   ]
  },
  {
   "cell_type": "code",
   "execution_count": 44,
   "id": "expressed-element",
   "metadata": {},
   "outputs": [
    {
     "data": {
      "text/plain": [
       "0                                 Boston Celtics\n",
       "1                             Los Angeles Lakers\n",
       "2                             Philadelphia 76ers\n",
       "3                                  Chicago Bulls\n",
       "4                                Milwaukee Bucks\n",
       "5                                Houston Rockets\n",
       "6                              San Antonio Spurs\n",
       "7                                   Phoenix Suns\n",
       "8             Philadelphia/Golden State Warriors\n",
       "9            St. Louis Hawks (now Atlanta Hawks)\n",
       "10                                     Utah Jazz\n",
       "11                           Cleveland Cavaliers\n",
       "12                                    Miami Heat\n",
       "13                         Oklahoma City Thunder\n",
       "14                                Denver Nuggets\n",
       "15      Cincinnati Royals (now Sacramento Kings)\n",
       "16    Baltimore Bullets (now Washington Wizards)\n",
       "17                               New York Knicks\n",
       "18     Buffalo Braves (now Los Angeles Clippers)\n",
       "19                        Portland Trail Blazers\n",
       "20                        Minnesota Timberwolves\n",
       "21                              Dallas Mavericks\n",
       "22                                 Brooklyn Nets\n",
       "23                             Charlotte Hornets\n",
       "24                               Detroit Pistons\n",
       "25                                Indiana Pacers\n",
       "26                             Memphis Grizzlies\n",
       "27                          New Orleans Pelicans\n",
       "28                                 Orlando Magic\n",
       "29                               Toronto Raptors\n",
       "Name: Teams, dtype: object"
      ]
     },
     "execution_count": 44,
     "metadata": {},
     "output_type": "execute_result"
    }
   ],
   "source": [
    "mvp.Teams.replace(to_replace=changesMVP1,inplace=True)\n",
    "mvp.Teams"
   ]
  },
  {
   "cell_type": "code",
   "execution_count": 42,
   "id": "metropolitan-matter",
   "metadata": {},
   "outputs": [
    {
     "data": {
      "text/plain": [
       "[(('St. Louis Hawks (now Atlanta Hawks)', 86), 'Atlanta Hawks[v]'),\n",
       " (('Baltimore Bullets (now Washington Wizards)', 57),\n",
       "  'Baltimore Bullets (original) (folded in 1954)[viii]'),\n",
       " (('Brooklyn Nets', 95), 'Brooklyn Nets[x]'),\n",
       " (('Detroit Pistons', 44), 'Chicago Stags (folded in 1950)'),\n",
       " (('Detroit Pistons', 95), 'Detroit Pistons[iv]'),\n",
       " (('Philadelphia/Golden State Warriors', 88), 'Golden State Warriors[ii]'),\n",
       " (('Buffalo Braves (now Los Angeles Clippers)', 90), 'Los Angeles Clippers'),\n",
       " (('Los Angeles Lakers', 95), 'Los Angeles Lakers[i]'),\n",
       " (('Oklahoma City Thunder', 95), 'Oklahoma City Thunder[vii]'),\n",
       " (('Philadelphia 76ers', 95), 'Philadelphia 76ers[iii]'),\n",
       " (('Cincinnati Royals (now Sacramento Kings)', 86), 'Sacramento Kings[ix]'),\n",
       " (('Baltimore Bullets (now Washington Wizards)', 44),\n",
       "  'Washington Capitols (folded in 1951)'),\n",
       " (('Baltimore Bullets (now Washington Wizards)', 86),\n",
       "  'Washington Wizards[vi]')]"
      ]
     },
     "execution_count": 42,
     "metadata": {},
     "output_type": "execute_result"
    }
   ],
   "source": [
    "# second try\n",
    "onlyChamps=set(champs.Team)-set(mvp.Teams)\n",
    "onlyMVP=set(mvp.Teams)-set(champs.Team)\n",
    "[(fz.extractOne(champs, onlyMVP),champs) for champs in sorted(onlyChamps)]"
   ]
  },
  {
   "cell_type": "code",
   "execution_count": 57,
   "id": "significant-tuition",
   "metadata": {},
   "outputs": [
    {
     "ename": "MergeError",
     "evalue": "No common columns to perform merge on. Merge options: left_on=None, right_on=None, left_index=False, right_index=False",
     "output_type": "error",
     "traceback": [
      "\u001b[1;31m---------------------------------------------------------------------------\u001b[0m",
      "\u001b[1;31mMergeError\u001b[0m                                Traceback (most recent call last)",
      "\u001b[1;32m<ipython-input-57-9e41be918d35>\u001b[0m in \u001b[0;36m<module>\u001b[1;34m\u001b[0m\n\u001b[1;32m----> 1\u001b[1;33m \u001b[0mchamps\u001b[0m\u001b[1;33m.\u001b[0m\u001b[0mmerge\u001b[0m\u001b[1;33m(\u001b[0m\u001b[0mmvp\u001b[0m\u001b[1;33m)\u001b[0m\u001b[1;33m.\u001b[0m\u001b[0mshape\u001b[0m\u001b[1;33m\u001b[0m\u001b[1;33m\u001b[0m\u001b[0m\n\u001b[0m",
      "\u001b[1;32m~\\AppData\\Roaming\\Python\\Python39\\site-packages\\pandas\\core\\frame.py\u001b[0m in \u001b[0;36mmerge\u001b[1;34m(self, right, how, on, left_on, right_on, left_index, right_index, sort, suffixes, copy, indicator, validate)\u001b[0m\n\u001b[0;32m   8193\u001b[0m         \u001b[1;32mfrom\u001b[0m \u001b[0mpandas\u001b[0m\u001b[1;33m.\u001b[0m\u001b[0mcore\u001b[0m\u001b[1;33m.\u001b[0m\u001b[0mreshape\u001b[0m\u001b[1;33m.\u001b[0m\u001b[0mmerge\u001b[0m \u001b[1;32mimport\u001b[0m \u001b[0mmerge\u001b[0m\u001b[1;33m\u001b[0m\u001b[1;33m\u001b[0m\u001b[0m\n\u001b[0;32m   8194\u001b[0m \u001b[1;33m\u001b[0m\u001b[0m\n\u001b[1;32m-> 8195\u001b[1;33m         return merge(\n\u001b[0m\u001b[0;32m   8196\u001b[0m             \u001b[0mself\u001b[0m\u001b[1;33m,\u001b[0m\u001b[1;33m\u001b[0m\u001b[1;33m\u001b[0m\u001b[0m\n\u001b[0;32m   8197\u001b[0m             \u001b[0mright\u001b[0m\u001b[1;33m,\u001b[0m\u001b[1;33m\u001b[0m\u001b[1;33m\u001b[0m\u001b[0m\n",
      "\u001b[1;32m~\\AppData\\Roaming\\Python\\Python39\\site-packages\\pandas\\core\\reshape\\merge.py\u001b[0m in \u001b[0;36mmerge\u001b[1;34m(left, right, how, on, left_on, right_on, left_index, right_index, sort, suffixes, copy, indicator, validate)\u001b[0m\n\u001b[0;32m     72\u001b[0m     \u001b[0mvalidate\u001b[0m\u001b[1;33m=\u001b[0m\u001b[1;32mNone\u001b[0m\u001b[1;33m,\u001b[0m\u001b[1;33m\u001b[0m\u001b[1;33m\u001b[0m\u001b[0m\n\u001b[0;32m     73\u001b[0m ) -> \"DataFrame\":\n\u001b[1;32m---> 74\u001b[1;33m     op = _MergeOperation(\n\u001b[0m\u001b[0;32m     75\u001b[0m         \u001b[0mleft\u001b[0m\u001b[1;33m,\u001b[0m\u001b[1;33m\u001b[0m\u001b[1;33m\u001b[0m\u001b[0m\n\u001b[0;32m     76\u001b[0m         \u001b[0mright\u001b[0m\u001b[1;33m,\u001b[0m\u001b[1;33m\u001b[0m\u001b[1;33m\u001b[0m\u001b[0m\n",
      "\u001b[1;32m~\\AppData\\Roaming\\Python\\Python39\\site-packages\\pandas\\core\\reshape\\merge.py\u001b[0m in \u001b[0;36m__init__\u001b[1;34m(self, left, right, how, on, left_on, right_on, axis, left_index, right_index, sort, suffixes, copy, indicator, validate)\u001b[0m\n\u001b[0;32m    648\u001b[0m             \u001b[0mwarnings\u001b[0m\u001b[1;33m.\u001b[0m\u001b[0mwarn\u001b[0m\u001b[1;33m(\u001b[0m\u001b[0mmsg\u001b[0m\u001b[1;33m,\u001b[0m \u001b[0mUserWarning\u001b[0m\u001b[1;33m)\u001b[0m\u001b[1;33m\u001b[0m\u001b[1;33m\u001b[0m\u001b[0m\n\u001b[0;32m    649\u001b[0m \u001b[1;33m\u001b[0m\u001b[0m\n\u001b[1;32m--> 650\u001b[1;33m         \u001b[0mself\u001b[0m\u001b[1;33m.\u001b[0m\u001b[0m_validate_specification\u001b[0m\u001b[1;33m(\u001b[0m\u001b[1;33m)\u001b[0m\u001b[1;33m\u001b[0m\u001b[1;33m\u001b[0m\u001b[0m\n\u001b[0m\u001b[0;32m    651\u001b[0m \u001b[1;33m\u001b[0m\u001b[0m\n\u001b[0;32m    652\u001b[0m         \u001b[0mcross_col\u001b[0m \u001b[1;33m=\u001b[0m \u001b[1;32mNone\u001b[0m\u001b[1;33m\u001b[0m\u001b[1;33m\u001b[0m\u001b[0m\n",
      "\u001b[1;32m~\\AppData\\Roaming\\Python\\Python39\\site-packages\\pandas\\core\\reshape\\merge.py\u001b[0m in \u001b[0;36m_validate_specification\u001b[1;34m(self)\u001b[0m\n\u001b[0;32m   1281\u001b[0m                 \u001b[0mcommon_cols\u001b[0m \u001b[1;33m=\u001b[0m \u001b[0mleft_cols\u001b[0m\u001b[1;33m.\u001b[0m\u001b[0mintersection\u001b[0m\u001b[1;33m(\u001b[0m\u001b[0mright_cols\u001b[0m\u001b[1;33m)\u001b[0m\u001b[1;33m\u001b[0m\u001b[1;33m\u001b[0m\u001b[0m\n\u001b[0;32m   1282\u001b[0m                 \u001b[1;32mif\u001b[0m \u001b[0mlen\u001b[0m\u001b[1;33m(\u001b[0m\u001b[0mcommon_cols\u001b[0m\u001b[1;33m)\u001b[0m \u001b[1;33m==\u001b[0m \u001b[1;36m0\u001b[0m\u001b[1;33m:\u001b[0m\u001b[1;33m\u001b[0m\u001b[1;33m\u001b[0m\u001b[0m\n\u001b[1;32m-> 1283\u001b[1;33m                     raise MergeError(\n\u001b[0m\u001b[0;32m   1284\u001b[0m                         \u001b[1;34m\"No common columns to perform merge on. \"\u001b[0m\u001b[1;33m\u001b[0m\u001b[1;33m\u001b[0m\u001b[0m\n\u001b[0;32m   1285\u001b[0m                         \u001b[1;34mf\"Merge options: left_on={self.left_on}, \"\u001b[0m\u001b[1;33m\u001b[0m\u001b[1;33m\u001b[0m\u001b[0m\n",
      "\u001b[1;31mMergeError\u001b[0m: No common columns to perform merge on. Merge options: left_on=None, right_on=None, left_index=False, right_index=False"
     ]
    }
   ],
   "source": [
    "champs.merge(mvp).shape"
   ]
  },
  {
   "cell_type": "code",
   "execution_count": null,
   "id": "exposed-service",
   "metadata": {},
   "outputs": [],
   "source": []
  }
 ],
 "metadata": {
  "kernelspec": {
   "display_name": "Python 3 (ipykernel)",
   "language": "python",
   "name": "python3"
  },
  "language_info": {
   "codemirror_mode": {
    "name": "ipython",
    "version": 3
   },
   "file_extension": ".py",
   "mimetype": "text/x-python",
   "name": "python",
   "nbconvert_exporter": "python",
   "pygments_lexer": "ipython3",
   "version": "3.9.15"
  }
 },
 "nbformat": 4,
 "nbformat_minor": 5
}
