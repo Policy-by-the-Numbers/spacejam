{
 "cells": [
  {
   "cell_type": "markdown",
   "id": "loved-sarah",
   "metadata": {},
   "source": [
    "## Merging the NBA datasets"
   ]
  },
  {
   "cell_type": "markdown",
   "id": "consistent-blood",
   "metadata": {},
   "source": [
    "Reading in the three data frames"
   ]
  },
  {
   "cell_type": "code",
   "execution_count": 28,
   "id": "eleven-planner",
   "metadata": {},
   "outputs": [],
   "source": [
    "import pandas as pd\n",
    "champs=pd.read_pickle(\"https://github.com/Policy-by-the-Numbers/spacejam/raw/main/nbachamps.pkl\")\n",
    "streak=pd.read_pickle(\"https://github.com/Policy-by-the-Numbers/spacejam/raw/main/nbawinstreaks.pkl\")\n",
    "mvp=pd.read_pickle(\"https://github.com/Policy-by-the-Numbers/spacejam/raw/main/nba_mvps.pkl\")\n",
    "regseason=pd.read_pickle(\"https://github.com/Policy-by-the-Numbers/spacejam/raw/main/regseason.pkl\")"
   ]
  },
  {
   "cell_type": "code",
   "execution_count": 29,
   "id": "grateful-salon",
   "metadata": {},
   "outputs": [
    {
     "name": "stdout",
     "output_type": "stream",
     "text": [
      "<class 'pandas.core.frame.DataFrame'>\n",
      "RangeIndex: 33 entries, 0 to 32\n",
      "Data columns (total 5 columns):\n",
      " #   Column    Non-Null Count  Dtype  \n",
      "---  ------    --------------  -----  \n",
      " 0   Team      33 non-null     object \n",
      " 1   Win       27 non-null     float64\n",
      " 2   Loss      27 non-null     float64\n",
      " 3   Apps      27 non-null     float64\n",
      " 4   ChampPct  27 non-null     float64\n",
      "dtypes: float64(4), object(1)\n",
      "memory usage: 1.4+ KB\n"
     ]
    }
   ],
   "source": [
    "champs.info()"
   ]
  },
  {
   "cell_type": "code",
   "execution_count": 30,
   "id": "offshore-western",
   "metadata": {},
   "outputs": [
    {
     "name": "stdout",
     "output_type": "stream",
     "text": [
      "<class 'pandas.core.frame.DataFrame'>\n",
      "RangeIndex: 33 entries, 0 to 32\n",
      "Data columns (total 2 columns):\n",
      " #   Column  Non-Null Count  Dtype \n",
      "---  ------  --------------  ----- \n",
      " 0   Games   33 non-null     int64 \n",
      " 1   Team    33 non-null     object\n",
      "dtypes: int64(1), object(1)\n",
      "memory usage: 656.0+ bytes\n"
     ]
    }
   ],
   "source": [
    "streak.info()"
   ]
  },
  {
   "cell_type": "markdown",
   "id": "consistent-lingerie",
   "metadata": {},
   "source": [
    "Realizing that the unit of analysis for win streak is not by team. Gonna move on with just the MVP data to see what happens."
   ]
  },
  {
   "cell_type": "code",
   "execution_count": 31,
   "id": "honest-doctor",
   "metadata": {},
   "outputs": [
    {
     "data": {
      "text/plain": [
       "((33, 5), (33, 2), (30, 2))"
      ]
     },
     "execution_count": 31,
     "metadata": {},
     "output_type": "execute_result"
    }
   ],
   "source": [
    "champs.shape,streak.shape,mvp.shape"
   ]
  },
  {
   "cell_type": "markdown",
   "id": "engaging-shame",
   "metadata": {},
   "source": [
    "Looking first at championship data vs. MVP data"
   ]
  },
  {
   "cell_type": "code",
   "execution_count": 32,
   "id": "dense-michigan",
   "metadata": {},
   "outputs": [
    {
     "data": {
      "text/plain": [
       "{'Atlanta Hawks[v]',\n",
       " 'Baltimore Bullets (original) (folded in 1954)[viii]',\n",
       " 'Brooklyn Nets[x]',\n",
       " 'Chicago Stags (folded in 1950)',\n",
       " 'Detroit Pistons[iv]',\n",
       " 'Golden State Warriors[ii]',\n",
       " 'Los Angeles Clippers',\n",
       " 'Los Angeles Lakers[i]',\n",
       " 'Oklahoma City Thunder[vii]',\n",
       " 'Philadelphia 76ers[iii]',\n",
       " 'Sacramento Kings[ix]',\n",
       " 'Washington Capitols (folded in 1951)',\n",
       " 'Washington Wizards[vi]'}"
      ]
     },
     "execution_count": 32,
     "metadata": {},
     "output_type": "execute_result"
    }
   ],
   "source": [
    "onlyChamps=set(champs.Team)-set(mvp.Team)\n",
    "onlyChamps"
   ]
  },
  {
   "cell_type": "code",
   "execution_count": 33,
   "id": "serious-rover",
   "metadata": {},
   "outputs": [
    {
     "data": {
      "text/plain": [
       "{'Baltimore Bullets (now Washington Wizards)',\n",
       " 'Brooklyn Nets',\n",
       " 'Buffalo Braves (now Los Angeles Clippers)',\n",
       " 'Cincinnati Royals (now Sacramento Kings)',\n",
       " 'Detroit Pistons',\n",
       " 'Los Angeles Lakers',\n",
       " 'Oklahoma City Thunder',\n",
       " 'Philadelphia 76ers',\n",
       " 'Philadelphia/Golden State Warriors',\n",
       " 'St. Louis Hawks (now Atlanta Hawks)'}"
      ]
     },
     "execution_count": 33,
     "metadata": {},
     "output_type": "execute_result"
    }
   ],
   "source": [
    "onlyMVP=set(mvp.Team)-set(champs.Team)\n",
    "onlyMVP"
   ]
  },
  {
   "cell_type": "markdown",
   "id": "junior-internet",
   "metadata": {},
   "source": [
    "Here we'll try and find what countries in onlyChamps may match those in onlyMVP using fuzzy merge"
   ]
  },
  {
   "cell_type": "code",
   "execution_count": 34,
   "id": "crucial-hierarchy",
   "metadata": {},
   "outputs": [
    {
     "name": "stdout",
     "output_type": "stream",
     "text": [
      "Requirement already satisfied: thefuzz in c:\\users\\deian\\anaconda3\\envs\\govanalytics\\lib\\site-packages (0.19.0)\n"
     ]
    },
    {
     "data": {
      "text/plain": [
       "[(('St. Louis Hawks (now Atlanta Hawks)', 86), 'Atlanta Hawks[v]'),\n",
       " (('Baltimore Bullets (now Washington Wizards)', 57),\n",
       "  'Baltimore Bullets (original) (folded in 1954)[viii]'),\n",
       " (('Brooklyn Nets', 95), 'Brooklyn Nets[x]'),\n",
       " (('Detroit Pistons', 44), 'Chicago Stags (folded in 1950)'),\n",
       " (('Detroit Pistons', 95), 'Detroit Pistons[iv]'),\n",
       " (('Philadelphia/Golden State Warriors', 88), 'Golden State Warriors[ii]'),\n",
       " (('Buffalo Braves (now Los Angeles Clippers)', 90), 'Los Angeles Clippers'),\n",
       " (('Los Angeles Lakers', 95), 'Los Angeles Lakers[i]'),\n",
       " (('Oklahoma City Thunder', 95), 'Oklahoma City Thunder[vii]'),\n",
       " (('Philadelphia 76ers', 95), 'Philadelphia 76ers[iii]'),\n",
       " (('Cincinnati Royals (now Sacramento Kings)', 86), 'Sacramento Kings[ix]'),\n",
       " (('Baltimore Bullets (now Washington Wizards)', 44),\n",
       "  'Washington Capitols (folded in 1951)'),\n",
       " (('Baltimore Bullets (now Washington Wizards)', 86),\n",
       "  'Washington Wizards[vi]')]"
      ]
     },
     "execution_count": 34,
     "metadata": {},
     "output_type": "execute_result"
    }
   ],
   "source": [
    "!pip install thefuzz\n",
    "from thefuzz import process as fz\n",
    "\n",
    "# look for a country in onlyMVP and return the most similar\n",
    "[(fz.extractOne(champs, onlyMVP),champs) for champs in sorted(onlyChamps)]"
   ]
  },
  {
   "cell_type": "markdown",
   "id": "innocent-drawing",
   "metadata": {},
   "source": []
  },
  {
   "cell_type": "code",
   "execution_count": 35,
   "id": "defensive-norman",
   "metadata": {},
   "outputs": [
    {
     "data": {
      "text/plain": [
       "[(('St. Louis Hawks (now Atlanta Hawks)', 86), 'Atlanta Hawks[v]'),\n",
       " (('Brooklyn Nets', 95), 'Brooklyn Nets[x]'),\n",
       " (('Detroit Pistons', 95), 'Detroit Pistons[iv]'),\n",
       " (('Philadelphia/Golden State Warriors', 88), 'Golden State Warriors[ii]'),\n",
       " (('Buffalo Braves (now Los Angeles Clippers)', 90), 'Los Angeles Clippers'),\n",
       " (('Los Angeles Lakers', 95), 'Los Angeles Lakers[i]'),\n",
       " (('Oklahoma City Thunder', 95), 'Oklahoma City Thunder[vii]'),\n",
       " (('Philadelphia 76ers', 95), 'Philadelphia 76ers[iii]'),\n",
       " (('Cincinnati Royals (now Sacramento Kings)', 86), 'Sacramento Kings[ix]'),\n",
       " (('Baltimore Bullets (now Washington Wizards)', 86),\n",
       "  'Washington Wizards[vi]')]"
      ]
     },
     "execution_count": 35,
     "metadata": {},
     "output_type": "execute_result"
    }
   ],
   "source": [
    "[(fz.extractOne(champs, onlyMVP),champs)\n",
    " for champs in sorted(onlyChamps)\n",
    "if fz.extractOne(champs, onlyMVP)[1]>80]"
   ]
  },
  {
   "cell_type": "markdown",
   "id": "approximate-cedar",
   "metadata": {},
   "source": [
    "I like these matches, so I'll create a dictionary:"
   ]
  },
  {
   "cell_type": "code",
   "execution_count": 36,
   "id": "superb-completion",
   "metadata": {},
   "outputs": [
    {
     "data": {
      "text/plain": [
       "{'St. Louis Hawks (now Atlanta Hawks)': 'Atlanta Hawks[v]',\n",
       " 'Brooklyn Nets': 'Brooklyn Nets[x]',\n",
       " 'Detroit Pistons': 'Detroit Pistons[iv]',\n",
       " 'Philadelphia/Golden State Warriors': 'Golden State Warriors[ii]',\n",
       " 'Buffalo Braves (now Los Angeles Clippers)': 'Los Angeles Clippers',\n",
       " 'Los Angeles Lakers': 'Los Angeles Lakers[i]',\n",
       " 'Oklahoma City Thunder': 'Oklahoma City Thunder[vii]',\n",
       " 'Philadelphia 76ers': 'Philadelphia 76ers[iii]',\n",
       " 'Cincinnati Royals (now Sacramento Kings)': 'Sacramento Kings[ix]',\n",
       " 'Baltimore Bullets (now Washington Wizards)': 'Washington Wizards[vi]'}"
      ]
     },
     "execution_count": 36,
     "metadata": {},
     "output_type": "execute_result"
    }
   ],
   "source": [
    "changesMVP1={fz.extractOne(champs, onlyMVP)[0]:champs\n",
    "            for champs in sorted(onlyChamps)\n",
    "            if fz.extractOne(champs, onlyMVP)[1]>80}\n",
    "              \n",
    "# dictionary of matches\n",
    "changesMVP1"
   ]
  },
  {
   "cell_type": "code",
   "execution_count": 37,
   "id": "expressed-element",
   "metadata": {},
   "outputs": [
    {
     "data": {
      "text/plain": [
       "0                 Boston Celtics\n",
       "1          Los Angeles Lakers[i]\n",
       "2        Philadelphia 76ers[iii]\n",
       "3                  Chicago Bulls\n",
       "4                Milwaukee Bucks\n",
       "5                Houston Rockets\n",
       "6              San Antonio Spurs\n",
       "7                   Phoenix Suns\n",
       "8      Golden State Warriors[ii]\n",
       "9               Atlanta Hawks[v]\n",
       "10                     Utah Jazz\n",
       "11           Cleveland Cavaliers\n",
       "12                    Miami Heat\n",
       "13    Oklahoma City Thunder[vii]\n",
       "14                Denver Nuggets\n",
       "15          Sacramento Kings[ix]\n",
       "16        Washington Wizards[vi]\n",
       "17               New York Knicks\n",
       "18          Los Angeles Clippers\n",
       "19        Portland Trail Blazers\n",
       "20        Minnesota Timberwolves\n",
       "21              Dallas Mavericks\n",
       "22              Brooklyn Nets[x]\n",
       "23             Charlotte Hornets\n",
       "24           Detroit Pistons[iv]\n",
       "25                Indiana Pacers\n",
       "26             Memphis Grizzlies\n",
       "27          New Orleans Pelicans\n",
       "28                 Orlando Magic\n",
       "29               Toronto Raptors\n",
       "Name: Team, dtype: object"
      ]
     },
     "execution_count": 37,
     "metadata": {},
     "output_type": "execute_result"
    }
   ],
   "source": [
    "mvp.Team.replace(to_replace=changesMVP1,inplace=True)\n",
    "mvp.Team"
   ]
  },
  {
   "cell_type": "code",
   "execution_count": 38,
   "id": "metropolitan-matter",
   "metadata": {},
   "outputs": [
    {
     "data": {
      "text/plain": [
       "[(None, 'Baltimore Bullets (original) (folded in 1954)[viii]'),\n",
       " (None, 'Chicago Stags (folded in 1950)'),\n",
       " (None, 'Washington Capitols (folded in 1951)')]"
      ]
     },
     "execution_count": 38,
     "metadata": {},
     "output_type": "execute_result"
    }
   ],
   "source": [
    "# second try\n",
    "onlyChamps=set(champs.Team)-set(mvp.Team)\n",
    "onlyMVP=set(mvp.Team)-set(champs.Team)\n",
    "[(fz.extractOne(champs, onlyMVP),champs) for champs in sorted(onlyChamps)]"
   ]
  },
  {
   "cell_type": "markdown",
   "id": "wired-webster",
   "metadata": {},
   "source": [
    "The remaining teams are ones that are no longer existent and therefore are likely not in the list of MVPs by team. Let's retry the merge."
   ]
  },
  {
   "cell_type": "code",
   "execution_count": 39,
   "id": "exposed-service",
   "metadata": {},
   "outputs": [
    {
     "data": {
      "text/plain": [
       "(30, 6)"
      ]
     },
     "execution_count": 39,
     "metadata": {},
     "output_type": "execute_result"
    }
   ],
   "source": [
    "champs.merge(mvp).shape #much better matching"
   ]
  },
  {
   "cell_type": "code",
   "execution_count": 40,
   "id": "general-minimum",
   "metadata": {},
   "outputs": [
    {
     "name": "stdout",
     "output_type": "stream",
     "text": [
      "<class 'pandas.core.frame.DataFrame'>\n",
      "Int64Index: 30 entries, 0 to 29\n",
      "Data columns (total 6 columns):\n",
      " #   Column    Non-Null Count  Dtype  \n",
      "---  ------    --------------  -----  \n",
      " 0   Team      30 non-null     object \n",
      " 1   Win       24 non-null     float64\n",
      " 2   Loss      24 non-null     float64\n",
      " 3   Apps      24 non-null     float64\n",
      " 4   ChampPct  24 non-null     float64\n",
      " 5   Awards    30 non-null     int64  \n",
      "dtypes: float64(4), int64(1), object(1)\n",
      "memory usage: 1.6+ KB\n"
     ]
    }
   ],
   "source": [
    "champs_mvp=champs.merge(mvp)\n",
    "champs_mvp.info()"
   ]
  },
  {
   "cell_type": "markdown",
   "id": "aging-association",
   "metadata": {},
   "source": [
    "## Here I'm going to try and merge the regular season data"
   ]
  },
  {
   "cell_type": "code",
   "execution_count": 41,
   "id": "italian-victim",
   "metadata": {},
   "outputs": [
    {
     "data": {
      "text/plain": [
       "(21, 11)"
      ]
     },
     "execution_count": 41,
     "metadata": {},
     "output_type": "execute_result"
    }
   ],
   "source": [
    "champs_mvp.merge(regseason).shape"
   ]
  },
  {
   "cell_type": "markdown",
   "id": "returning-award",
   "metadata": {},
   "source": [
    "We lose nine teams. Let's see if we can recover any via fuzzy merge."
   ]
  },
  {
   "cell_type": "code",
   "execution_count": 43,
   "id": "compact-marketing",
   "metadata": {},
   "outputs": [
    {
     "data": {
      "text/plain": [
       "{'Atlanta Hawks[v]',\n",
       " 'Brooklyn Nets[x]',\n",
       " 'Detroit Pistons[iv]',\n",
       " 'Golden State Warriors[ii]',\n",
       " 'Los Angeles Lakers[i]',\n",
       " 'Oklahoma City Thunder[vii]',\n",
       " 'Philadelphia 76ers[iii]',\n",
       " 'Sacramento Kings[ix]',\n",
       " 'Washington Wizards[vi]'}"
      ]
     },
     "execution_count": 43,
     "metadata": {},
     "output_type": "execute_result"
    }
   ],
   "source": [
    "OnlyChampMVP=set(champs_mvp.Team)-set(regseason.Team)\n",
    "OnlyChampMVP"
   ]
  },
  {
   "cell_type": "code",
   "execution_count": 44,
   "id": "demographic-cookie",
   "metadata": {},
   "outputs": [
    {
     "data": {
      "text/plain": [
       "{'Atlanta Hawks',\n",
       " 'Brooklyn Nets',\n",
       " 'Detroit Pistons',\n",
       " 'Golden State Warriors',\n",
       " 'Los Angeles Lakers',\n",
       " 'Oklahoma City Thunder',\n",
       " 'Philadelphia 76ers',\n",
       " 'Sacramento Kings',\n",
       " 'Washington Wizards'}"
      ]
     },
     "execution_count": 44,
     "metadata": {},
     "output_type": "execute_result"
    }
   ],
   "source": [
    "OnlyReg=set(regseason.Team)-set(champs_mvp.Team)\n",
    "OnlyReg"
   ]
  },
  {
   "cell_type": "markdown",
   "id": "looking-acoustic",
   "metadata": {},
   "source": [
    "Doing the Fuzzy Merge"
   ]
  },
  {
   "cell_type": "code",
   "execution_count": 47,
   "id": "radical-label",
   "metadata": {},
   "outputs": [
    {
     "data": {
      "text/plain": [
       "[(('Atlanta Hawks', 95), 'Atlanta Hawks[v]'),\n",
       " (('Brooklyn Nets', 95), 'Brooklyn Nets[x]'),\n",
       " (('Detroit Pistons', 95), 'Detroit Pistons[iv]'),\n",
       " (('Golden State Warriors', 95), 'Golden State Warriors[ii]'),\n",
       " (('Los Angeles Lakers', 95), 'Los Angeles Lakers[i]'),\n",
       " (('Oklahoma City Thunder', 95), 'Oklahoma City Thunder[vii]'),\n",
       " (('Philadelphia 76ers', 95), 'Philadelphia 76ers[iii]'),\n",
       " (('Sacramento Kings', 95), 'Sacramento Kings[ix]'),\n",
       " (('Washington Wizards', 95), 'Washington Wizards[vi]')]"
      ]
     },
     "execution_count": 47,
     "metadata": {},
     "output_type": "execute_result"
    }
   ],
   "source": [
    "from thefuzz import process as fz\n",
    "\n",
    "# look for a country in onlyReg and return the most similar\n",
    "[(fz.extractOne(champs_mvp, OnlyReg),champs_mvp) for champs_mvp in sorted(OnlyChampMVP)]"
   ]
  },
  {
   "cell_type": "markdown",
   "id": "becoming-genesis",
   "metadata": {},
   "source": [
    "Keeping those with >=95% matches"
   ]
  },
  {
   "cell_type": "code",
   "execution_count": 53,
   "id": "cubic-governor",
   "metadata": {},
   "outputs": [
    {
     "data": {
      "text/plain": [
       "{'Atlanta Hawks': 'Atlanta Hawks[v]',\n",
       " 'Brooklyn Nets': 'Brooklyn Nets[x]',\n",
       " 'Detroit Pistons': 'Detroit Pistons[iv]',\n",
       " 'Golden State Warriors': 'Golden State Warriors[ii]',\n",
       " 'Los Angeles Lakers': 'Los Angeles Lakers[i]',\n",
       " 'Oklahoma City Thunder': 'Oklahoma City Thunder[vii]',\n",
       " 'Philadelphia 76ers': 'Philadelphia 76ers[iii]',\n",
       " 'Sacramento Kings': 'Sacramento Kings[ix]',\n",
       " 'Washington Wizards': 'Washington Wizards[vi]'}"
      ]
     },
     "execution_count": 53,
     "metadata": {},
     "output_type": "execute_result"
    }
   ],
   "source": [
    "changesReg1={fz.extractOne(champs_mvp, OnlyReg)[0]:champs_mvp\n",
    "            for champs_mvp in sorted(OnlyChampMVP)\n",
    "            if fz.extractOne(champs_mvp, OnlyReg)[1]>94}\n",
    "changesReg1"
   ]
  },
  {
   "cell_type": "code",
   "execution_count": 54,
   "id": "senior-fiber",
   "metadata": {},
   "outputs": [],
   "source": [
    "regseason.Team.replace(to_replace=changesReg1,inplace=True)"
   ]
  },
  {
   "cell_type": "code",
   "execution_count": 56,
   "id": "sticky-cricket",
   "metadata": {},
   "outputs": [
    {
     "data": {
      "text/plain": [
       "(30, 11)"
      ]
     },
     "execution_count": 56,
     "metadata": {},
     "output_type": "execute_result"
    }
   ],
   "source": [
    "champs_mvp.merge(regseason).shape #30 teams! nice!"
   ]
  },
  {
   "cell_type": "code",
   "execution_count": 57,
   "id": "purple-former",
   "metadata": {},
   "outputs": [],
   "source": [
    "champs_mvp_reg=champs_mvp.merge(regseason)"
   ]
  },
  {
   "cell_type": "code",
   "execution_count": 58,
   "id": "atomic-container",
   "metadata": {},
   "outputs": [
    {
     "name": "stdout",
     "output_type": "stream",
     "text": [
      "<class 'pandas.core.frame.DataFrame'>\n",
      "Int64Index: 30 entries, 0 to 29\n",
      "Data columns (total 11 columns):\n",
      " #   Column        Non-Null Count  Dtype   \n",
      "---  ------        --------------  -----   \n",
      " 0   Team          30 non-null     object  \n",
      " 1   Win           24 non-null     float64 \n",
      " 2   Loss          24 non-null     float64 \n",
      " 3   Apps          24 non-null     float64 \n",
      " 4   ChampPct      24 non-null     float64 \n",
      " 5   Awards        30 non-null     int64   \n",
      " 6   GP2022        30 non-null     int64   \n",
      " 7   TotalWins     30 non-null     int64   \n",
      " 8   TotalLosses   30 non-null     int64   \n",
      " 9   RegSeasonPct  30 non-null     float64 \n",
      " 10  Division      30 non-null     category\n",
      "dtypes: category(1), float64(5), int64(4), object(1)\n",
      "memory usage: 2.8+ KB\n"
     ]
    }
   ],
   "source": [
    "champs_mvp_reg.info()"
   ]
  },
  {
   "cell_type": "markdown",
   "id": "perceived-nickel",
   "metadata": {},
   "source": [
    "Data Scaling"
   ]
  },
  {
   "cell_type": "code",
   "execution_count": 59,
   "id": "supreme-makeup",
   "metadata": {},
   "outputs": [
    {
     "data": {
      "text/html": [
       "<div>\n",
       "<style scoped>\n",
       "    .dataframe tbody tr th:only-of-type {\n",
       "        vertical-align: middle;\n",
       "    }\n",
       "\n",
       "    .dataframe tbody tr th {\n",
       "        vertical-align: top;\n",
       "    }\n",
       "\n",
       "    .dataframe thead th {\n",
       "        text-align: right;\n",
       "    }\n",
       "</style>\n",
       "<table border=\"1\" class=\"dataframe\">\n",
       "  <thead>\n",
       "    <tr style=\"text-align: right;\">\n",
       "      <th></th>\n",
       "      <th>Team</th>\n",
       "      <th>Win</th>\n",
       "      <th>Loss</th>\n",
       "      <th>Apps</th>\n",
       "      <th>ChampPct</th>\n",
       "      <th>Awards</th>\n",
       "      <th>GP2022</th>\n",
       "      <th>TotalWins</th>\n",
       "      <th>TotalLosses</th>\n",
       "      <th>RegSeasonPct</th>\n",
       "      <th>Division</th>\n",
       "    </tr>\n",
       "  </thead>\n",
       "  <tbody>\n",
       "    <tr>\n",
       "      <th>count</th>\n",
       "      <td>30</td>\n",
       "      <td>24.000000</td>\n",
       "      <td>24.000000</td>\n",
       "      <td>24.000000</td>\n",
       "      <td>24.000000</td>\n",
       "      <td>30.000000</td>\n",
       "      <td>30.00000</td>\n",
       "      <td>30.000000</td>\n",
       "      <td>30.000000</td>\n",
       "      <td>30.00000</td>\n",
       "      <td>30</td>\n",
       "    </tr>\n",
       "    <tr>\n",
       "      <th>unique</th>\n",
       "      <td>30</td>\n",
       "      <td>NaN</td>\n",
       "      <td>NaN</td>\n",
       "      <td>NaN</td>\n",
       "      <td>NaN</td>\n",
       "      <td>NaN</td>\n",
       "      <td>NaN</td>\n",
       "      <td>NaN</td>\n",
       "      <td>NaN</td>\n",
       "      <td>NaN</td>\n",
       "      <td>6</td>\n",
       "    </tr>\n",
       "    <tr>\n",
       "      <th>top</th>\n",
       "      <td>New York Knicks</td>\n",
       "      <td>NaN</td>\n",
       "      <td>NaN</td>\n",
       "      <td>NaN</td>\n",
       "      <td>NaN</td>\n",
       "      <td>NaN</td>\n",
       "      <td>NaN</td>\n",
       "      <td>NaN</td>\n",
       "      <td>NaN</td>\n",
       "      <td>NaN</td>\n",
       "      <td>Southwest</td>\n",
       "    </tr>\n",
       "    <tr>\n",
       "      <th>freq</th>\n",
       "      <td>1</td>\n",
       "      <td>NaN</td>\n",
       "      <td>NaN</td>\n",
       "      <td>NaN</td>\n",
       "      <td>NaN</td>\n",
       "      <td>NaN</td>\n",
       "      <td>NaN</td>\n",
       "      <td>NaN</td>\n",
       "      <td>NaN</td>\n",
       "      <td>NaN</td>\n",
       "      <td>7</td>\n",
       "    </tr>\n",
       "    <tr>\n",
       "      <th>mean</th>\n",
       "      <td>NaN</td>\n",
       "      <td>3.125000</td>\n",
       "      <td>3.083333</td>\n",
       "      <td>6.208333</td>\n",
       "      <td>0.424250</td>\n",
       "      <td>2.233333</td>\n",
       "      <td>4167.40000</td>\n",
       "      <td>2088.266667</td>\n",
       "      <td>2079.133333</td>\n",
       "      <td>0.49570</td>\n",
       "      <td>NaN</td>\n",
       "    </tr>\n",
       "    <tr>\n",
       "      <th>std</th>\n",
       "      <td>NaN</td>\n",
       "      <td>4.665437</td>\n",
       "      <td>3.091597</td>\n",
       "      <td>7.113852</td>\n",
       "      <td>0.328651</td>\n",
       "      <td>2.528231</td>\n",
       "      <td>1308.42555</td>\n",
       "      <td>739.716578</td>\n",
       "      <td>636.538578</td>\n",
       "      <td>0.05147</td>\n",
       "      <td>NaN</td>\n",
       "    </tr>\n",
       "    <tr>\n",
       "      <th>min</th>\n",
       "      <td>NaN</td>\n",
       "      <td>0.000000</td>\n",
       "      <td>0.000000</td>\n",
       "      <td>1.000000</td>\n",
       "      <td>0.000000</td>\n",
       "      <td>0.000000</td>\n",
       "      <td>1604.00000</td>\n",
       "      <td>740.000000</td>\n",
       "      <td>864.000000</td>\n",
       "      <td>0.39900</td>\n",
       "      <td>NaN</td>\n",
       "    </tr>\n",
       "    <tr>\n",
       "      <th>25%</th>\n",
       "      <td>NaN</td>\n",
       "      <td>1.000000</td>\n",
       "      <td>1.000000</td>\n",
       "      <td>2.000000</td>\n",
       "      <td>0.237500</td>\n",
       "      <td>0.250000</td>\n",
       "      <td>3460.00000</td>\n",
       "      <td>1610.000000</td>\n",
       "      <td>1603.250000</td>\n",
       "      <td>0.46100</td>\n",
       "      <td>NaN</td>\n",
       "    </tr>\n",
       "    <tr>\n",
       "      <th>50%</th>\n",
       "      <td>NaN</td>\n",
       "      <td>1.000000</td>\n",
       "      <td>2.500000</td>\n",
       "      <td>4.000000</td>\n",
       "      <td>0.381000</td>\n",
       "      <td>1.500000</td>\n",
       "      <td>4197.00000</td>\n",
       "      <td>2230.000000</td>\n",
       "      <td>2074.000000</td>\n",
       "      <td>0.49600</td>\n",
       "      <td>NaN</td>\n",
       "    </tr>\n",
       "    <tr>\n",
       "      <th>75%</th>\n",
       "      <td>NaN</td>\n",
       "      <td>3.000000</td>\n",
       "      <td>4.000000</td>\n",
       "      <td>6.250000</td>\n",
       "      <td>0.604000</td>\n",
       "      <td>3.000000</td>\n",
       "      <td>5560.50000</td>\n",
       "      <td>2583.750000</td>\n",
       "      <td>2445.250000</td>\n",
       "      <td>0.52525</td>\n",
       "      <td>NaN</td>\n",
       "    </tr>\n",
       "    <tr>\n",
       "      <th>max</th>\n",
       "      <td>NaN</td>\n",
       "      <td>17.000000</td>\n",
       "      <td>15.000000</td>\n",
       "      <td>32.000000</td>\n",
       "      <td>1.000000</td>\n",
       "      <td>10.000000</td>\n",
       "      <td>5950.00000</td>\n",
       "      <td>3513.000000</td>\n",
       "      <td>3187.000000</td>\n",
       "      <td>0.61100</td>\n",
       "      <td>NaN</td>\n",
       "    </tr>\n",
       "  </tbody>\n",
       "</table>\n",
       "</div>"
      ],
      "text/plain": [
       "                   Team        Win       Loss       Apps   ChampPct  \\\n",
       "count                30  24.000000  24.000000  24.000000  24.000000   \n",
       "unique               30        NaN        NaN        NaN        NaN   \n",
       "top     New York Knicks        NaN        NaN        NaN        NaN   \n",
       "freq                  1        NaN        NaN        NaN        NaN   \n",
       "mean                NaN   3.125000   3.083333   6.208333   0.424250   \n",
       "std                 NaN   4.665437   3.091597   7.113852   0.328651   \n",
       "min                 NaN   0.000000   0.000000   1.000000   0.000000   \n",
       "25%                 NaN   1.000000   1.000000   2.000000   0.237500   \n",
       "50%                 NaN   1.000000   2.500000   4.000000   0.381000   \n",
       "75%                 NaN   3.000000   4.000000   6.250000   0.604000   \n",
       "max                 NaN  17.000000  15.000000  32.000000   1.000000   \n",
       "\n",
       "           Awards      GP2022    TotalWins  TotalLosses  RegSeasonPct  \\\n",
       "count   30.000000    30.00000    30.000000    30.000000      30.00000   \n",
       "unique        NaN         NaN          NaN          NaN           NaN   \n",
       "top           NaN         NaN          NaN          NaN           NaN   \n",
       "freq          NaN         NaN          NaN          NaN           NaN   \n",
       "mean     2.233333  4167.40000  2088.266667  2079.133333       0.49570   \n",
       "std      2.528231  1308.42555   739.716578   636.538578       0.05147   \n",
       "min      0.000000  1604.00000   740.000000   864.000000       0.39900   \n",
       "25%      0.250000  3460.00000  1610.000000  1603.250000       0.46100   \n",
       "50%      1.500000  4197.00000  2230.000000  2074.000000       0.49600   \n",
       "75%      3.000000  5560.50000  2583.750000  2445.250000       0.52525   \n",
       "max     10.000000  5950.00000  3513.000000  3187.000000       0.61100   \n",
       "\n",
       "         Division  \n",
       "count          30  \n",
       "unique          6  \n",
       "top     Southwest  \n",
       "freq            7  \n",
       "mean          NaN  \n",
       "std           NaN  \n",
       "min           NaN  \n",
       "25%           NaN  \n",
       "50%           NaN  \n",
       "75%           NaN  \n",
       "max           NaN  "
      ]
     },
     "execution_count": 59,
     "metadata": {},
     "output_type": "execute_result"
    }
   ],
   "source": [
    "champs_mvp_reg.describe(include='all')"
   ]
  },
  {
   "cell_type": "markdown",
   "id": "assumed-mixer",
   "metadata": {},
   "source": [
    "Let's pay attention to highest and lowest values"
   ]
  },
  {
   "cell_type": "code",
   "execution_count": 60,
   "id": "conceptual-turkish",
   "metadata": {},
   "outputs": [
    {
     "data": {
      "text/html": [
       "<div>\n",
       "<style scoped>\n",
       "    .dataframe tbody tr th:only-of-type {\n",
       "        vertical-align: middle;\n",
       "    }\n",
       "\n",
       "    .dataframe tbody tr th {\n",
       "        vertical-align: top;\n",
       "    }\n",
       "\n",
       "    .dataframe thead th {\n",
       "        text-align: right;\n",
       "    }\n",
       "</style>\n",
       "<table border=\"1\" class=\"dataframe\">\n",
       "  <thead>\n",
       "    <tr style=\"text-align: right;\">\n",
       "      <th></th>\n",
       "      <th>min</th>\n",
       "      <th>max</th>\n",
       "    </tr>\n",
       "  </thead>\n",
       "  <tbody>\n",
       "    <tr>\n",
       "      <th>Win</th>\n",
       "      <td>0.000</td>\n",
       "      <td>17.000</td>\n",
       "    </tr>\n",
       "    <tr>\n",
       "      <th>Loss</th>\n",
       "      <td>0.000</td>\n",
       "      <td>15.000</td>\n",
       "    </tr>\n",
       "    <tr>\n",
       "      <th>Apps</th>\n",
       "      <td>1.000</td>\n",
       "      <td>32.000</td>\n",
       "    </tr>\n",
       "    <tr>\n",
       "      <th>ChampPct</th>\n",
       "      <td>0.000</td>\n",
       "      <td>1.000</td>\n",
       "    </tr>\n",
       "    <tr>\n",
       "      <th>Awards</th>\n",
       "      <td>0.000</td>\n",
       "      <td>10.000</td>\n",
       "    </tr>\n",
       "    <tr>\n",
       "      <th>GP2022</th>\n",
       "      <td>1604.000</td>\n",
       "      <td>5950.000</td>\n",
       "    </tr>\n",
       "    <tr>\n",
       "      <th>TotalWins</th>\n",
       "      <td>740.000</td>\n",
       "      <td>3513.000</td>\n",
       "    </tr>\n",
       "    <tr>\n",
       "      <th>TotalLosses</th>\n",
       "      <td>864.000</td>\n",
       "      <td>3187.000</td>\n",
       "    </tr>\n",
       "    <tr>\n",
       "      <th>RegSeasonPct</th>\n",
       "      <td>0.399</td>\n",
       "      <td>0.611</td>\n",
       "    </tr>\n",
       "  </tbody>\n",
       "</table>\n",
       "</div>"
      ],
      "text/plain": [
       "                   min       max\n",
       "Win              0.000    17.000\n",
       "Loss             0.000    15.000\n",
       "Apps             1.000    32.000\n",
       "ChampPct         0.000     1.000\n",
       "Awards           0.000    10.000\n",
       "GP2022        1604.000  5950.000\n",
       "TotalWins      740.000  3513.000\n",
       "TotalLosses    864.000  3187.000\n",
       "RegSeasonPct     0.399     0.611"
      ]
     },
     "execution_count": 60,
     "metadata": {},
     "output_type": "execute_result"
    }
   ],
   "source": [
    "champs_mvp_reg.describe().loc[['min','max']].T"
   ]
  },
  {
   "cell_type": "markdown",
   "id": "refined-punch",
   "metadata": {},
   "source": [
    "Now I think we're ready to export"
   ]
  },
  {
   "cell_type": "markdown",
   "id": "ahead-resident",
   "metadata": {},
   "source": [
    "## Exporting merged dataset"
   ]
  },
  {
   "cell_type": "markdown",
   "id": "foster-underground",
   "metadata": {},
   "source": [
    "For future use in Python:"
   ]
  },
  {
   "cell_type": "code",
   "execution_count": 61,
   "id": "timely-curtis",
   "metadata": {},
   "outputs": [],
   "source": [
    "champs_mvp_reg.to_pickle(\"champs_mvp_reg.pkl\")\n",
    "# you will need: DF=pd.read_pickle(\"champs_mvp.pkl\")\n",
    "# or:\n",
    "# from urllib.request import urlopen\n",
    "# DF=pd.read_pickle(urlopen(\"https://..../champs_mvp.pkl\"),compression=None)"
   ]
  },
  {
   "cell_type": "markdown",
   "id": "civic-jacket",
   "metadata": {},
   "source": [
    "For future use in R:"
   ]
  },
  {
   "cell_type": "code",
   "execution_count": 62,
   "id": "attempted-category",
   "metadata": {},
   "outputs": [
    {
     "name": "stderr",
     "output_type": "stream",
     "text": [
      "ERROR: Could not find a version that satisfies the requirement rpy2.robjects (from versions: none)\n",
      "ERROR: No matching distribution found for rpy2.robjects\n"
     ]
    },
    {
     "ename": "ModuleNotFoundError",
     "evalue": "No module named 'rpy2'",
     "output_type": "error",
     "traceback": [
      "\u001b[1;31m---------------------------------------------------------------------------\u001b[0m",
      "\u001b[1;31mModuleNotFoundError\u001b[0m                       Traceback (most recent call last)",
      "\u001b[1;32m<ipython-input-62-e4950c42e34e>\u001b[0m in \u001b[0;36m<module>\u001b[1;34m\u001b[0m\n\u001b[0;32m      3\u001b[0m \u001b[1;33m\u001b[0m\u001b[0m\n\u001b[0;32m      4\u001b[0m \u001b[0mget_ipython\u001b[0m\u001b[1;33m(\u001b[0m\u001b[1;33m)\u001b[0m\u001b[1;33m.\u001b[0m\u001b[0msystem\u001b[0m\u001b[1;33m(\u001b[0m\u001b[1;34m'pip install rpy2.robjects'\u001b[0m\u001b[1;33m)\u001b[0m\u001b[1;33m\u001b[0m\u001b[1;33m\u001b[0m\u001b[0m\n\u001b[1;32m----> 5\u001b[1;33m \u001b[1;32mfrom\u001b[0m \u001b[0mrpy2\u001b[0m\u001b[1;33m.\u001b[0m\u001b[0mrobjects\u001b[0m \u001b[1;32mimport\u001b[0m \u001b[0mpandas2ri\u001b[0m\u001b[1;33m\u001b[0m\u001b[1;33m\u001b[0m\u001b[0m\n\u001b[0m\u001b[0;32m      6\u001b[0m \u001b[0mpandas2ri\u001b[0m\u001b[1;33m.\u001b[0m\u001b[0mactivate\u001b[0m\u001b[1;33m(\u001b[0m\u001b[1;33m)\u001b[0m\u001b[1;33m\u001b[0m\u001b[1;33m\u001b[0m\u001b[0m\n\u001b[0;32m      7\u001b[0m \u001b[1;33m\u001b[0m\u001b[0m\n",
      "\u001b[1;31mModuleNotFoundError\u001b[0m: No module named 'rpy2'"
     ]
    }
   ],
   "source": [
    "#try the following before starting Python:\n",
    "#export LD_LIBRARY_PATH=\"$(python -m rpy2.situation LD_LIBRARY_PATH)\":${LD_LIBRARY_PATH}\n",
    "\n",
    "!pip install rpy2.robjects\n",
    "from rpy2.robjects import pandas2ri\n",
    "pandas2ri.activate()\n",
    "\n",
    "from rpy2.robjects.packages import importr\n",
    "\n",
    "base = importr('base')\n",
    "base.saveRDS(champs_mvp_reg,file=\"champs_mvp_reg.RDS\")\n",
    "\n",
    "\n",
    "#In R, you call it with: DF = readRDS(\"demo_fragile.RDS\")\n",
    "#or, if iyou read from cloud: DF = readRDS(url(\"https://..../demo_fragile.RDS\")"
   ]
  },
  {
   "cell_type": "code",
   "execution_count": null,
   "id": "designing-flesh",
   "metadata": {},
   "outputs": [],
   "source": [
    "Gonna save as a csv also just cause:"
   ]
  },
  {
   "cell_type": "code",
   "execution_count": 63,
   "id": "clean-investment",
   "metadata": {},
   "outputs": [],
   "source": [
    "champs_mvp.to_csv(\"champs_mvp_reg.csv\")"
   ]
  },
  {
   "cell_type": "code",
   "execution_count": null,
   "id": "hundred-gauge",
   "metadata": {},
   "outputs": [],
   "source": []
  }
 ],
 "metadata": {
  "kernelspec": {
   "display_name": "Python 3 (ipykernel)",
   "language": "python",
   "name": "python3"
  },
  "language_info": {
   "codemirror_mode": {
    "name": "ipython",
    "version": 3
   },
   "file_extension": ".py",
   "mimetype": "text/x-python",
   "name": "python",
   "nbconvert_exporter": "python",
   "pygments_lexer": "ipython3",
   "version": "3.9.15"
  }
 },
 "nbformat": 4,
 "nbformat_minor": 5
}
