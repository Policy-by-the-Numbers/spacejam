{
 "cells": [
  {
   "cell_type": "markdown",
   "id": "loved-sarah",
   "metadata": {},
   "source": [
    "## Merging the NBA datasets"
   ]
  },
  {
   "cell_type": "markdown",
   "id": "consistent-blood",
   "metadata": {},
   "source": [
    "Reading in the three data frames"
   ]
  },
  {
   "cell_type": "code",
   "execution_count": null,
   "id": "eleven-planner",
   "metadata": {},
   "outputs": [],
   "source": [
    "import pandas as pd\n",
    "champs=pd.read_pickle(\"https://github.com/Policy-by-the-Numbers/spacejam/raw/main/nbachamps.pkl\")\n",
    "streak=pd.read_pickle(\"https://github.com/Policy-by-the-Numbers/spacejam/raw/main/nbawinstreaks.pkl\")\n",
    "mvp=pd.read_pickle(\"https://github.com/Policy-by-the-Numbers/spacejam/raw/main/nba_mvps.pkl\")\n",
    "regseason=pd.read_pickle(\"https://github.com/Policy-by-the-Numbers/spacejam/raw/main/regseason.pkl\")"
   ]
  },
  {
   "cell_type": "code",
   "execution_count": null,
   "id": "grateful-salon",
   "metadata": {},
   "outputs": [],
   "source": [
    "champs.info()"
   ]
  },
  {
   "cell_type": "code",
   "execution_count": null,
   "id": "offshore-western",
   "metadata": {},
   "outputs": [],
   "source": [
    "streak.info()"
   ]
  },
  {
   "cell_type": "markdown",
   "id": "consistent-lingerie",
   "metadata": {},
   "source": [
    "Realizing that the unit of analysis for win streak is not by team. Gonna move on with just the MVP data to see what happens."
   ]
  },
  {
   "cell_type": "code",
   "execution_count": null,
   "id": "honest-doctor",
   "metadata": {},
   "outputs": [],
   "source": [
    "champs.shape,streak.shape,mvp.shape"
   ]
  },
  {
   "cell_type": "markdown",
   "id": "engaging-shame",
   "metadata": {},
   "source": [
    "Looking first at championship data vs. MVP data"
   ]
  },
  {
   "cell_type": "code",
   "execution_count": null,
   "id": "dense-michigan",
   "metadata": {},
   "outputs": [],
   "source": [
    "onlyChamps=set(champs.Team)-set(mvp.Team)\n",
    "onlyChamps"
   ]
  },
  {
   "cell_type": "code",
   "execution_count": null,
   "id": "serious-rover",
   "metadata": {},
   "outputs": [],
   "source": [
    "onlyMVP=set(mvp.Team)-set(champs.Team)\n",
    "onlyMVP"
   ]
  },
  {
   "cell_type": "markdown",
   "id": "junior-internet",
   "metadata": {},
   "source": [
    "Here we'll try and find what countries in onlyChamps may match those in onlyMVP using fuzzy merge"
   ]
  },
  {
   "cell_type": "code",
   "execution_count": null,
   "id": "crucial-hierarchy",
   "metadata": {},
   "outputs": [],
   "source": [
    "!pip install thefuzz\n",
    "from thefuzz import process as fz\n",
    "\n",
    "# look for a country in onlyMVP and return the most similar\n",
    "[(fz.extractOne(champs, onlyMVP),champs) for champs in sorted(onlyChamps)]"
   ]
  },
  {
   "cell_type": "markdown",
   "id": "innocent-drawing",
   "metadata": {},
   "source": []
  },
  {
   "cell_type": "code",
   "execution_count": null,
   "id": "defensive-norman",
   "metadata": {},
   "outputs": [],
   "source": [
    "[(fz.extractOne(champs, onlyMVP),champs)\n",
    " for champs in sorted(onlyChamps)\n",
    "if fz.extractOne(champs, onlyMVP)[1]>80]"
   ]
  },
  {
   "cell_type": "markdown",
   "id": "approximate-cedar",
   "metadata": {},
   "source": [
    "I like these matches, so I'll create a dictionary:"
   ]
  },
  {
   "cell_type": "code",
   "execution_count": null,
   "id": "superb-completion",
   "metadata": {},
   "outputs": [],
   "source": [
    "changesMVP1={fz.extractOne(champs, onlyMVP)[0]:champs\n",
    "            for champs in sorted(onlyChamps)\n",
    "            if fz.extractOne(champs, onlyMVP)[1]>80}\n",
    "              \n",
    "# dictionary of matches\n",
    "changesMVP1"
   ]
  },
  {
   "cell_type": "code",
   "execution_count": null,
   "id": "expressed-element",
   "metadata": {},
   "outputs": [],
   "source": [
    "mvp.Team.replace(to_replace=changesMVP1,inplace=True)\n",
    "mvp.Team"
   ]
  },
  {
   "cell_type": "code",
   "execution_count": null,
   "id": "metropolitan-matter",
   "metadata": {},
   "outputs": [],
   "source": [
    "# second try\n",
    "onlyChamps=set(champs.Team)-set(mvp.Team)\n",
    "onlyMVP=set(mvp.Team)-set(champs.Team)\n",
    "[(fz.extractOne(champs, onlyMVP),champs) for champs in sorted(onlyChamps)]"
   ]
  },
  {
   "cell_type": "markdown",
   "id": "wired-webster",
   "metadata": {},
   "source": [
    "The remaining teams are ones that are no longer existent and therefore are likely not in the list of MVPs by team. Let's retry the merge."
   ]
  },
  {
   "cell_type": "code",
   "execution_count": null,
   "id": "exposed-service",
   "metadata": {},
   "outputs": [],
   "source": [
    "champs.merge(mvp).shape #much better matching"
   ]
  },
  {
   "cell_type": "code",
   "execution_count": null,
   "id": "general-minimum",
   "metadata": {},
   "outputs": [],
   "source": [
    "champs_mvp=champs.merge(mvp)\n",
    "champs_mvp.info()"
   ]
  },
  {
   "cell_type": "markdown",
   "id": "living-screen",
   "metadata": {},
   "source": [
    "## Here I'm going to try and merge the regular season data"
   ]
  },
  {
   "cell_type": "code",
   "execution_count": 88,
   "id": "italian-victim",
   "metadata": {},
   "outputs": [
    {
     "data": {
      "text/html": [
       "<div>\n",
       "<style scoped>\n",
       "    .dataframe tbody tr th:only-of-type {\n",
       "        vertical-align: middle;\n",
       "    }\n",
       "\n",
       "    .dataframe tbody tr th {\n",
       "        vertical-align: top;\n",
       "    }\n",
       "\n",
       "    .dataframe thead th {\n",
       "        text-align: right;\n",
       "    }\n",
       "</style>\n",
       "<table border=\"1\" class=\"dataframe\">\n",
       "  <thead>\n",
       "    <tr style=\"text-align: right;\">\n",
       "      <th></th>\n",
       "      <th>Win</th>\n",
       "      <th>Loss</th>\n",
       "      <th>Apps</th>\n",
       "      <th>Pct</th>\n",
       "      <th>Awards</th>\n",
       "    </tr>\n",
       "  </thead>\n",
       "  <tbody>\n",
       "    <tr>\n",
       "      <th>count</th>\n",
       "      <td>24.000000</td>\n",
       "      <td>24.000000</td>\n",
       "      <td>24.000000</td>\n",
       "      <td>24.000000</td>\n",
       "      <td>30.000000</td>\n",
       "    </tr>\n",
       "    <tr>\n",
       "      <th>mean</th>\n",
       "      <td>3.125000</td>\n",
       "      <td>3.083333</td>\n",
       "      <td>6.208333</td>\n",
       "      <td>0.424250</td>\n",
       "      <td>2.233333</td>\n",
       "    </tr>\n",
       "    <tr>\n",
       "      <th>std</th>\n",
       "      <td>4.665437</td>\n",
       "      <td>3.091597</td>\n",
       "      <td>7.113852</td>\n",
       "      <td>0.328651</td>\n",
       "      <td>2.528231</td>\n",
       "    </tr>\n",
       "    <tr>\n",
       "      <th>min</th>\n",
       "      <td>0.000000</td>\n",
       "      <td>0.000000</td>\n",
       "      <td>1.000000</td>\n",
       "      <td>0.000000</td>\n",
       "      <td>0.000000</td>\n",
       "    </tr>\n",
       "    <tr>\n",
       "      <th>25%</th>\n",
       "      <td>1.000000</td>\n",
       "      <td>1.000000</td>\n",
       "      <td>2.000000</td>\n",
       "      <td>0.237500</td>\n",
       "      <td>0.250000</td>\n",
       "    </tr>\n",
       "    <tr>\n",
       "      <th>50%</th>\n",
       "      <td>1.000000</td>\n",
       "      <td>2.500000</td>\n",
       "      <td>4.000000</td>\n",
       "      <td>0.381000</td>\n",
       "      <td>1.500000</td>\n",
       "    </tr>\n",
       "    <tr>\n",
       "      <th>75%</th>\n",
       "      <td>3.000000</td>\n",
       "      <td>4.000000</td>\n",
       "      <td>6.250000</td>\n",
       "      <td>0.604000</td>\n",
       "      <td>3.000000</td>\n",
       "    </tr>\n",
       "    <tr>\n",
       "      <th>max</th>\n",
       "      <td>17.000000</td>\n",
       "      <td>15.000000</td>\n",
       "      <td>32.000000</td>\n",
       "      <td>1.000000</td>\n",
       "      <td>10.000000</td>\n",
       "    </tr>\n",
       "  </tbody>\n",
       "</table>\n",
       "</div>"
      ],
      "text/plain": [
       "             Win       Loss       Apps        Pct     Awards\n",
       "count  24.000000  24.000000  24.000000  24.000000  30.000000\n",
       "mean    3.125000   3.083333   6.208333   0.424250   2.233333\n",
       "std     4.665437   3.091597   7.113852   0.328651   2.528231\n",
       "min     0.000000   0.000000   1.000000   0.000000   0.000000\n",
       "25%     1.000000   1.000000   2.000000   0.237500   0.250000\n",
       "50%     1.000000   2.500000   4.000000   0.381000   1.500000\n",
       "75%     3.000000   4.000000   6.250000   0.604000   3.000000\n",
       "max    17.000000  15.000000  32.000000   1.000000  10.000000"
      ]
     },
     "execution_count": 88,
     "metadata": {},
     "output_type": "execute_result"
    }
   ],
   "source": []
  },
  {
   "cell_type": "code",
   "execution_count": 90,
   "id": "supreme-makeup",
   "metadata": {},
   "outputs": [
    {
     "data": {
      "text/plain": [
       "<AxesSubplot:>"
      ]
     },
     "execution_count": 90,
     "metadata": {},
     "output_type": "execute_result"
    },
    {
     "data": {
      "image/png": "[encoded data removed]",
      "text/plain": [
       "<Figure size 432x288 with 1 Axes>"
      ]
     },
     "metadata": {
      "needs_background": "light"
     },
     "output_type": "display_data"
    }
   ],
   "source": [
    "champs_mvp.plot(kind='box', rot=90)"
   ]
  },
  {
   "cell_type": "markdown",
   "id": "tired-occurrence",
   "metadata": {},
   "source": [
    "Let's pay attention to highest and lowest values"
   ]
  },
  {
   "cell_type": "code",
   "execution_count": 93,
   "id": "valued-syndrome",
   "metadata": {},
   "outputs": [
    {
     "name": "stdout",
     "output_type": "stream",
     "text": [
      "Requirement already satisfied: sklearn in c:\\users\\deian\\anaconda3\\envs\\govanalytics\\lib\\site-packages (0.0.post1)\n"
     ]
    },
    {
     "ename": "ModuleNotFoundError",
     "evalue": "No module named 'sklearn'",
     "output_type": "error",
     "traceback": [
      "\u001b[1;31m---------------------------------------------------------------------------\u001b[0m",
      "\u001b[1;31mModuleNotFoundError\u001b[0m                       Traceback (most recent call last)",
      "\u001b[1;32m<ipython-input-93-e2d0aadf8454>\u001b[0m in \u001b[0;36m<module>\u001b[1;34m\u001b[0m\n\u001b[0;32m      1\u001b[0m \u001b[0mget_ipython\u001b[0m\u001b[1;33m(\u001b[0m\u001b[1;33m)\u001b[0m\u001b[1;33m.\u001b[0m\u001b[0msystem\u001b[0m\u001b[1;33m(\u001b[0m\u001b[1;34m'pip install sklearn'\u001b[0m\u001b[1;33m)\u001b[0m\u001b[1;33m\u001b[0m\u001b[1;33m\u001b[0m\u001b[0m\n\u001b[1;32m----> 2\u001b[1;33m \u001b[1;32mfrom\u001b[0m \u001b[0msklearn\u001b[0m \u001b[1;32mimport\u001b[0m \u001b[0mpreprocessing\u001b[0m\u001b[1;33m\u001b[0m\u001b[1;33m\u001b[0m\u001b[0m\n\u001b[0m\u001b[0;32m      3\u001b[0m \u001b[1;33m\u001b[0m\u001b[0m\n\u001b[0;32m      4\u001b[0m \u001b[1;31m# prepare the process\u001b[0m\u001b[1;33m\u001b[0m\u001b[1;33m\u001b[0m\u001b[0m\n\u001b[0;32m      5\u001b[0m \u001b[0mscaler\u001b[0m \u001b[1;33m=\u001b[0m \u001b[0mpreprocessing\u001b[0m\u001b[1;33m.\u001b[0m\u001b[0mMinMaxScaler\u001b[0m\u001b[1;33m(\u001b[0m\u001b[0mfeature_range\u001b[0m\u001b[1;33m=\u001b[0m\u001b[1;33m(\u001b[0m\u001b[1;36m0\u001b[0m\u001b[1;33m,\u001b[0m \u001b[1;36m10\u001b[0m\u001b[1;33m)\u001b[0m\u001b[1;33m)\u001b[0m\u001b[1;33m\u001b[0m\u001b[1;33m\u001b[0m\u001b[0m\n",
      "\u001b[1;31mModuleNotFoundError\u001b[0m: No module named 'sklearn'"
     ]
    }
   ],
   "source": [
    "!pip install sklearn\n",
    "from sklearn import preprocessing\n",
    "\n",
    "# prepare the process\n",
    "scaler = preprocessing.MinMaxScaler(feature_range=(0, 10))\n",
    "\n",
    "# apply process\n",
    "arrayTotal = scaler.fit_transform(champs_mvp[['Total']])\n",
    "\n",
    "# result\n",
    "arrayTotal"
   ]
  },
  {
   "cell_type": "code",
   "execution_count": null,
   "id": "bizarre-canon",
   "metadata": {},
   "outputs": [],
   "source": []
  },
  {
   "cell_type": "markdown",
   "id": "ahead-resident",
   "metadata": {},
   "source": [
    "## Exporting merged dataset"
   ]
  },
  {
   "cell_type": "markdown",
   "id": "foster-underground",
   "metadata": {},
   "source": [
    "For future use in Python:"
   ]
  },
  {
   "cell_type": "code",
   "execution_count": 97,
   "id": "timely-curtis",
   "metadata": {},
   "outputs": [],
   "source": [
    "champs_mvp.to_pickle(\"champs_mvp.pkl\")\n",
    "# you will need: DF=pd.read_pickle(\"champs_mvp.pkl\")\n",
    "# or:\n",
    "# from urllib.request import urlopen\n",
    "# DF=pd.read_pickle(urlopen(\"https://..../champs_mvp.pkl\"),compression=None)"
   ]
  },
  {
   "cell_type": "markdown",
   "id": "civic-jacket",
   "metadata": {},
   "source": [
    "For future use in R:"
   ]
  },
  {
   "cell_type": "code",
   "execution_count": 99,
   "id": "attempted-category",
   "metadata": {},
   "outputs": [
    {
     "name": "stderr",
     "output_type": "stream",
     "text": [
      "ERROR: Could not find a version that satisfies the requirement rpy2.robjects (from versions: none)\n",
      "ERROR: No matching distribution found for rpy2.robjects\n"
     ]
    },
    {
     "ename": "ModuleNotFoundError",
     "evalue": "No module named 'rpy2'",
     "output_type": "error",
     "traceback": [
      "\u001b[1;31m---------------------------------------------------------------------------\u001b[0m",
      "\u001b[1;31mModuleNotFoundError\u001b[0m                       Traceback (most recent call last)",
      "\u001b[1;32m<ipython-input-99-0f896f3120bb>\u001b[0m in \u001b[0;36m<module>\u001b[1;34m\u001b[0m\n\u001b[0;32m      3\u001b[0m \u001b[1;33m\u001b[0m\u001b[0m\n\u001b[0;32m      4\u001b[0m \u001b[0mget_ipython\u001b[0m\u001b[1;33m(\u001b[0m\u001b[1;33m)\u001b[0m\u001b[1;33m.\u001b[0m\u001b[0msystem\u001b[0m\u001b[1;33m(\u001b[0m\u001b[1;34m'pip install rpy2.robjects'\u001b[0m\u001b[1;33m)\u001b[0m\u001b[1;33m\u001b[0m\u001b[1;33m\u001b[0m\u001b[0m\n\u001b[1;32m----> 5\u001b[1;33m \u001b[1;32mfrom\u001b[0m \u001b[0mrpy2\u001b[0m\u001b[1;33m.\u001b[0m\u001b[0mrobjects\u001b[0m \u001b[1;32mimport\u001b[0m \u001b[0mpandas2ri\u001b[0m\u001b[1;33m\u001b[0m\u001b[1;33m\u001b[0m\u001b[0m\n\u001b[0m\u001b[0;32m      6\u001b[0m \u001b[0mpandas2ri\u001b[0m\u001b[1;33m.\u001b[0m\u001b[0mactivate\u001b[0m\u001b[1;33m(\u001b[0m\u001b[1;33m)\u001b[0m\u001b[1;33m\u001b[0m\u001b[1;33m\u001b[0m\u001b[0m\n\u001b[0;32m      7\u001b[0m \u001b[1;33m\u001b[0m\u001b[0m\n",
      "\u001b[1;31mModuleNotFoundError\u001b[0m: No module named 'rpy2'"
     ]
    }
   ],
   "source": [
    "#try the following before starting Python:\n",
    "#export LD_LIBRARY_PATH=\"$(python -m rpy2.situation LD_LIBRARY_PATH)\":${LD_LIBRARY_PATH}\n",
    "\n",
    "!pip install rpy2.robjects\n",
    "from rpy2.robjects import pandas2ri\n",
    "pandas2ri.activate()\n",
    "\n",
    "from rpy2.robjects.packages import importr\n",
    "\n",
    "base = importr('base')\n",
    "base.saveRDS(champs_mvp,file=\"champs_mvp.RDS\")\n",
    "\n",
    "\n",
    "#In R, you call it with: DF = readRDS(\"demo_fragile.RDS\")\n",
    "#or, if iyou read from cloud: DF = readRDS(url(\"https://..../demo_fragile.RDS\")"
   ]
  },
  {
   "cell_type": "code",
   "execution_count": null,
   "id": "designing-flesh",
   "metadata": {},
   "outputs": [],
   "source": [
    "Gonna save as a csv also just cause:"
   ]
  },
  {
   "cell_type": "code",
   "execution_count": 100,
   "id": "clean-investment",
   "metadata": {},
   "outputs": [],
   "source": [
    "champs_mvp.to_csv(\"champs_mvp.csv\")"
   ]
  },
  {
   "cell_type": "code",
   "execution_count": null,
   "id": "hundred-gauge",
   "metadata": {},
   "outputs": [],
   "source": []
  }
 ],
 "metadata": {
  "kernelspec": {
   "display_name": "Python 3 (ipykernel)",
   "language": "python",
   "name": "python3"
  },
  "language_info": {
   "codemirror_mode": {
    "name": "ipython",
    "version": 3
   },
   "file_extension": ".py",
   "mimetype": "text/x-python",
   "name": "python",
   "nbconvert_exporter": "python",
   "pygments_lexer": "ipython3",
   "version": "3.9.15"
  }
 },
 "nbformat": 4,
 "nbformat_minor": 5
}
